{
 "cells": [
  {
   "cell_type": "code",
   "execution_count": null,
   "id": "94295d7b",
   "metadata": {},
   "outputs": [],
   "source": []
  },
  {
   "cell_type": "code",
   "execution_count": null,
   "id": "7e51f678",
   "metadata": {},
   "outputs": [],
   "source": [
    "import meep as mp\n",
    "import numpy as np\n",
    "import matplotlib.pyplot as plt\n",
    "\n",
    "resolution = 20\n",
    "cell = mp.Vector3(20, 10, 0)  # شبیه‌سازی دوبعدی واقعی\n",
    "nfreq = 100\n",
    "\n",
    "def simulate_tag(center_x):\n",
    "    geometry = [mp.Block(mp.Vector3(1, 0.2, mp.inf),\n",
    "                         center=mp.Vector3(center_x, 0),\n",
    "                         material=mp.Medium(epsilon=12))]\n",
    "\n",
    "    sources = [mp.Source(mp.GaussianSource(frequency=2.0, fwidth=1.0),\n",
    "                         component=mp.Ez,\n",
    "                         center=mp.Vector3(0, -4))]\n",
    "\n",
    "    sim = mp.Simulation(cell_size=cell,\n",
    "                        geometry=geometry,\n",
    "                        sources=sources,\n",
    "                        resolution=resolution,\n",
    "                        default_material=mp.Medium(epsilon=1.0),\n",
    "                        boundary_layers=[mp.PML(1.0)])  # فقط در x و y\n",
    "\n",
    "    trans = sim.add_flux(2.0, 1.0, nfreq, mp.FluxRegion(center=mp.Vector3(0, 4), size=mp.Vector3(0, 1)))\n",
    "    sim.run(until=200)\n",
    "\n",
    "    freqs = mp.get_flux_freqs(trans)\n",
    "    flux = mp.get_fluxes(trans)\n",
    "    return freqs, flux\n",
    "\n",
    "freqs1, flux1 = simulate_tag(center_x=-4)\n",
    "freqs2, flux2 = simulate_tag(center_x=4)\n",
    "\n",
    "plt.figure(figsize=(10, 5))\n",
    "plt.plot(freqs1, flux1, label='تگ ۱ (سمت چپ)', color='blue')\n",
    "plt.plot(freqs2, flux2, label='تگ ۲ (سمت راست)', color='red')\n",
    "plt.xlabel(\"فرکانس\")\n",
    "plt.ylabel(\"عبور میدان\")\n",
    "plt.title(\"مقایسه پاسخ فرکانسی دو تگ RFID\")\n",
    "plt.legend()\n",
    "plt.grid(True)\n",
    "plt.show()\n"
   ]
  }
 ],
 "metadata": {
  "language_info": {
   "name": "python"
  }
 },
 "nbformat": 4,
 "nbformat_minor": 5
}
